{
 "cells": [
  {
   "cell_type": "code",
   "execution_count": null,
   "metadata": {},
   "outputs": [],
   "source": [
    "# Import libraries\n",
    "import tweepy\n",
    "import glob\n",
    "import pandas as pd"
   ]
  },
  {
   "cell_type": "code",
   "execution_count": null,
   "metadata": {},
   "outputs": [],
   "source": [
    "# Initialize bearer token and client\n",
    "bearer_token = \"\"\n",
    "client = tweepy.Client(bearer_token=bearer_token)"
   ]
  },
  {
   "cell_type": "code",
   "execution_count": null,
   "metadata": {},
   "outputs": [],
   "source": [
    "# Data collection properties\n",
    "username = 'TulsiGabbard'\n",
    "query = 'from:'+username\n",
    "start_time = '2019-01-21T00:00:00Z'\n",
    "end_time = '2021-01-27T23:59:59Z'"
   ]
  },
  {
   "cell_type": "code",
   "execution_count": null,
   "metadata": {},
   "outputs": [],
   "source": [
    "# Get tweets\n",
    "tweets = tweepy.Paginator(client.search_all_tweets, query=query, tweet_fields=['id','text','created_at','conversation_id','public_metrics','entities',\n",
    "                                                                               'in_reply_to_user_id','lang','possibly_sensitive'], \n",
    "                          max_results=500, start_time=start_time, end_time=end_time).flatten(limit=200000)"
   ]
  },
  {
   "cell_type": "code",
   "execution_count": null,
   "metadata": {},
   "outputs": [],
   "source": [
    "tweet_df = pd.DataFrame(columns=['id','created_at','conversation_id','tweet','retweet_count','like_count','reply_count','quote_count','expanded_url',\n",
    "                                'language','possibly_sensitive','in_reply_to_user_id'])\n",
    "\n",
    "for tweet in tweets:  \n",
    "    if tweet.entities is not None:\n",
    "        if tweet.entities.get('urls') is not None:\n",
    "            tweet_df = tweet_df.append({'id':tweet.id, 'created_at': tweet.created_at, 'conversation_id': tweet.conversation_id, 'tweet': tweet.text, \n",
    "                                        'retweet_count': tweet.public_metrics.get('retweet_count'), 'like_count':tweet.public_metrics.get('like_count'),\n",
    "                                        'reply_count': tweet.public_metrics.get('reply_count'), 'quote_count':tweet.public_metrics.get('quote_count'),\n",
    "                                        'expanded_url': tweet.entities.get('urls')[0].get('expanded_url'), 'language': tweet.lang, \n",
    "                                        'possibly_sensitive':tweet.possibly_sensitive, 'in_reply_to_user_id':tweet.in_reply_to_user_id}, ignore_index=True)\n",
    "        else:\n",
    "           tweet_df = tweet_df.append({'id':tweet.id, 'created_at': tweet.created_at, 'conversation_id': tweet.conversation_id, 'tweet': tweet.text, \n",
    "                                        'retweet_count': tweet.public_metrics.get('retweet_count'), 'like_count':tweet.public_metrics.get('like_count'),\n",
    "                                        'reply_count': tweet.public_metrics.get('reply_count'), 'quote_count':tweet.public_metrics.get('quote_count'),\n",
    "                                        'expanded_url': '', 'language': tweet.lang, 'possibly_sensitive':tweet.possibly_sensitive, \n",
    "                                        'in_reply_to_user_id':tweet.in_reply_to_user_id}, ignore_index=True)"
   ]
  },
  {
   "cell_type": "code",
   "execution_count": null,
   "metadata": {},
   "outputs": [],
   "source": [
    "tweet_df['username'] = username"
   ]
  },
  {
   "cell_type": "code",
   "execution_count": null,
   "metadata": {},
   "outputs": [],
   "source": [
    "tweet_df.shape"
   ]
  },
  {
   "cell_type": "code",
   "execution_count": null,
   "metadata": {},
   "outputs": [],
   "source": [
    "tweet_df.to_csv('../../data/twitter/raw/users/democrats/'+username+'.csv', index=False)"
   ]
  },
  {
   "cell_type": "code",
   "execution_count": null,
   "metadata": {},
   "outputs": [],
   "source": [
    "# df1 = pd.read_csv('../../data/twitter/raw/users/republicans/VP.csv')\n",
    "# df2 = pd.read_csv('../../data/twitter/raw/users/republicans/MikePence.csv')\n",
    "# df = pd.concat([df1,df2], ignore_index=True)\n",
    "# df['username'] = 'MikePence'\n",
    "# df.to_csv('../../data/twitter/raw/users/republicans/MikePence.csv')"
   ]
  },
  {
   "cell_type": "code",
   "execution_count": null,
   "metadata": {},
   "outputs": [],
   "source": [
    "# Cleaning for creating trump file\n",
    "# df1 = pd.read_csv('../../data/twitter/raw/users/republicans/trump files/trumpcleaned1.csv')\n",
    "# df2 = pd.read_csv('../../data/twitter/raw/users/republicans/trump files/trumpcleaned2.csv')\n",
    "# df1.drop(columns=['created_at','time','timezone','user_id','name','place','language','mentions','urls','photos','hashtags','cashtags','link','quote_url','video','thumbnail','near','geo','source','translate','trans_src','trans_dest','hour','month','year'],inplace=True)\n",
    "# df1 = df1.rename(columns={'retweet':'isRetweet'})\n",
    "# df2.drop(columns='device', inplace=True)\n",
    "# df2 = df2.rename(columns={'text':'tweet','favorites':'likes_count','retweets':'retweets_count'})\n",
    "# df2['replies_count'] = 0\n",
    "# df2['username'] = 'realDonaldTrump'\n",
    "# df2['isRetweet'] = df2['isRetweet'].map({'f':'FALSE','t':'TRUE'})"
   ]
  },
  {
   "cell_type": "code",
   "execution_count": null,
   "metadata": {},
   "outputs": [],
   "source": [
    "path = '../../data/twitter/raw/users/democrats/'\n",
    "\n",
    "total = 0\n",
    "for file in glob.glob(path+'/*.csv'):\n",
    "    df = pd.read_csv(file)\n",
    "    # print(df.columns)\n",
    "    print(df.username.unique()[0],'-', df.shape[0])\n",
    "    total += df.shape[0]\n",
    "    print('*'*50)\n",
    "    \n",
    "print('Total:',total)"
   ]
  },
  {
   "cell_type": "code",
   "execution_count": null,
   "metadata": {},
   "outputs": [],
   "source": [
    "path = '../../data/twitter/raw/users/republicans/'\n",
    "\n",
    "total = 0\n",
    "for file in glob.glob(path+'/*.csv'):\n",
    "    df = pd.read_csv(file)\n",
    "    # print(df.columns)\n",
    "    print(df.username.unique()[0],'-', df.shape[0])\n",
    "    total += df.shape[0]\n",
    "    print('*'*50)\n",
    "    \n",
    "print('Total:',total)"
   ]
  },
  {
   "cell_type": "code",
   "execution_count": null,
   "metadata": {},
   "outputs": [],
   "source": []
  }
 ],
 "metadata": {
  "interpreter": {
   "hash": "ac59ebe37160ed0dfa835113d9b8498d9f09ceb179beaac4002f036b9467c963"
  },
  "kernelspec": {
   "display_name": "Python 3.9.7 64-bit",
   "name": "python3"
  },
  "language_info": {
   "codemirror_mode": {
    "name": "ipython",
    "version": 3
   },
   "file_extension": ".py",
   "mimetype": "text/x-python",
   "name": "python",
   "nbconvert_exporter": "python",
   "pygments_lexer": "ipython3",
   "version": "3.9.9"
  },
  "orig_nbformat": 4
 },
 "nbformat": 4,
 "nbformat_minor": 2
}
