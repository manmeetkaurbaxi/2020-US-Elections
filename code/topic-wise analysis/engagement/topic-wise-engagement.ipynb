{
 "cells": [
  {
   "cell_type": "code",
   "execution_count": null,
   "metadata": {},
   "outputs": [],
   "source": [
    "import io\n",
    "import os\n",
    "import glob\n",
    "import re\n",
    "import pandas as pd\n",
    "import numpy as np\n",
    "import scipy.stats as stats\n",
    "from scipy.signal import savgol_filter"
   ]
  },
  {
   "cell_type": "code",
   "execution_count": null,
   "metadata": {},
   "outputs": [],
   "source": [
    "user_df = pd.read_csv('../../../data/twitter/raw/users/republicans/required/realDonaldTrump.csv')\n",
    "user_info_df = pd.read_csv('../../../data/twitter/raw/user_info_reframe.csv')\n",
    "\n",
    "SPAN = 300\n",
    "WINDOW_LENGTH = 21\n",
    "POLY_ORDER = 8"
   ]
  },
  {
   "cell_type": "code",
   "execution_count": null,
   "metadata": {},
   "outputs": [],
   "source": [
    "user_df.drop(['user_rt_id', 'user_rt', 'retweet_id', 'retweet_date'], axis = 1, inplace=True)\n",
    "user_df.drop(['like_count','reply_count','retweet_count','quote_count','expanded_url','reply_to'], axis = 1, inplace=True)"
   ]
  },
  {
   "cell_type": "code",
   "execution_count": null,
   "metadata": {},
   "outputs": [],
   "source": [
    "user_df['replies_count'].fillna(0, inplace=True)\n",
    "user_df['retweets_count'].fillna(0, inplace=True)\n",
    "user_df['likes_count'].fillna(0, inplace=True)"
   ]
  },
  {
   "cell_type": "code",
   "execution_count": null,
   "metadata": {},
   "outputs": [],
   "source": [
    "user_df.isna().sum()"
   ]
  },
  {
   "cell_type": "code",
   "execution_count": null,
   "metadata": {},
   "outputs": [],
   "source": [
    "topicList = [\n",
    "             ['recovering economy','dropped unemployment rate','v shaped recovery','k shaped recovery','country shutdown',\n",
    "              'fewer jobs','covid crisis','heated trade war','great recession','buy american','eliminate Trump tax cuts',\n",
    "              'student loan debt'],\n",
    "             ['elections have consequences', 'fill US Supreme court seat','supreme court nominee','get rid of affordable care act',\n",
    "              'amy coney barett','supreme court appointments', 'ending the filibuster','packing the cohort'],\n",
    "             ['covid crisis','deadly disease','trump panicked','save lives','economy shutdown','wear masks','vaccine','china plague',\n",
    "              'reopening plan','big rallies','smaller rallies', 'dc lockdown'],\n",
    "             ['race issues','equity in equality','decency','floyd murder','peaceful protest','black lives matter','generate racist hatred',\n",
    "              '1994 crime bill super-predators','law enforcement','demand law and order','systemic injustice','violence is inappropriate',\n",
    "              'end racial senstivity training','increase in homicides','reimagining police','community police','prosecute violence', 'weapon ban'],\n",
    "             ['vote','validate counting ballots','solicited ballot','irregularity in ballot','justice ballot by supreme court','testify votes','fair election',\n",
    "              'manipulating ballots','pledge to not declare victory before ballots are independenly certified','urge supporters to stay calm while counting',\n",
    "              'transparency','voter fraud','voter suppression','swing vote','gerrymandering','interventionism'],\n",
    "             ['impeachment hoax','con job','rebuilt military','judge vaccancies','128 openings','more divided','more violent','caused recession','weaker','putins puppy',\n",
    "              'hunter','fortune in moscow, ukraine, china','federal judges','veteran affairs','bronze star'],\n",
    "             ['cut drug prices','public option to obamacare','government takeover of healthcare','socialize medicine','end obamacare'],\n",
    "             ['fight pandemic','lower mortality rate','vaccine','operation warp speed','distributing ventilators','wear masks','rapid testing','national standards for reopening',\n",
    "              'financial resources for reopening','increase in unemployment rate','committing suicide','depression','social distancing','plexi-glass separators','protect seniors',\n",
    "              'trump panicked','sell short','remdesivir','self quarantine','sanitize','exercise','eat healthy','meditate'],\n",
    "             ['healthcare','health insurance','affordable care act','terminated individual mandate','end obamacare','better healthcare','building on obamacare','bidencare',\n",
    "              'obamacare with public option','eliminate private insurance','affordable healthcare','healthcare is right','socialized medicine','fracking','destroying medicare',\n",
    "              'destroying social security','cut medicare','poverty','hunger','raise minimum wage','bail out small businesses','immigration','zero tolerance policy',\n",
    "              'reunion of families'],\n",
    "             ['institutional racism','free from violence','super predators','1994 crime bill','criminal justice reform','prison reform','eliminate minimum mandatories',\n",
    "              'black lives matter movement is hate','climate of hate','banned muslims','bill on drug use','no jail for drug offense'],\n",
    "             ['opportunity for jobs','best carbon emission standards','climate change','global warming','health and jobs are at stake','economic growth',\n",
    "              'energy independent','fracking','zero emissions','sustainable','keep frontline communities safe','renewable energy','federal subsidy to oil industry',\n",
    "              'forest fires in west','paris climate accord','climate change','lowest carbon','billion tree project','forest management','maintain forests','obama plain power plan',\n",
    "              'green jobs','renewable energy','electric vehicles','net zero emission by 2035','global warming','green new deal'],\n",
    "             ['security of elections','iran & russia influencing elections','iran sent messages to voters','intruders will pay a price','american sovereignity','russian pawn',\n",
    "              'bounties to kill soldiers in afghanistan', 'interference from foreign adversaries','biden should lose','election security','business in china','pays tax in china',\n",
    "              'tax returns of trump','corruption','big man','release tax return statements','foreign entaglements','bribe ukranian','bank account in china','play by rules','denuclearization',\n",
    "              'north korea was a mess','nationalism'],\n",
    "             ['inauguration day','rebuilding america','best black unemployment numbers','road to success','cut taxes','new regulations','together with success','depression','401ks will go to hell',\n",
    "              'inaugural address','hope over fear','chose to move forward','grow economy','deal with systemic racism','motivated by clean energy','create millions of jobs','character of the country',\n",
    "              'everyone has an even chance'],\n",
    "             ['black lives matter','george floyd','blm','justice for floyd','floyd protest','colorism','defunding the police','no justice no peace','solidarity','performative activism','microagression',\n",
    "              'black lives matter movement','police brutality','post-racial','racially motivated violence','george floyd protests','murder of George Floyd'],\n",
    "             ['capitol hill','capitol riot','capitol attack','attempted violent overthrow','armed insurrection','assault on our democracy', 'mob riot','mob rule','insurrection','capitol storming',\n",
    "              'capitol crowd','capitol hill attack','capitol incident','capitol hill incident','capitol','riot','peaceful protest'],\n",
    "             ['US Elections','US Elections 2020','vote for biden','vote for trump','make america great again','promises made, promises kept','our best days still lie ahead',\n",
    "              'building opportunity together','working people first','fighiting for our future','we rise','win the era','a fair shot for everyone','one nation, one destiny',\n",
    "              'lead with love','no more wars','sleepy joe','vote blue to save america','trump is losing','biden harris','debate 2020','election 2020','trump vs biden','voting',\n",
    "              'voting rights','elections','voter fraud','super tuesday','referendum','silent majority','democratic socialist','interventionism','nationalism'],\n",
    "             ['inauguration','biden harris inauguration','celebrate america','inauguration day','inauguration day 2021','celebrate with joe','vice president harris','unity','diversity','democracy'],\n",
    "            #  ['medical marijuana','legalize marijuana','marijuana liberalization policies','marijuana decriminalization','marijuana liberalization','recreational marijuana','marijuana policy'],\n",
    "             ['LGBTQ', 'community', 'equality rights', 'racial', 'ethnic', 'black', 'inequalities', 'dignity', 'reject', 'disabilities','lgbt rights','gender neutrality','inclusiveness','fair and equal treatment'],\n",
    "             ['weapon ban','boycott','curtail','guns','violence', 'magazines', 'high capacity','gun control','gun violence','mass shootings','gun control laws','reduce gun violence','gun control act',\n",
    "              'firearm owners protection act','assault weapons ban','march for our lives','international gun control','brady law','open carry','background checks'],\n",
    "             ['express tour','trains','labour unions','build back express tour','backbone of america','amtrack train tour','dignity of work','union rights','i will fight for you','middle class built america'],\n",
    "             ['maternal', 'healthcare', 'obamacare', 'medicare', 'affordable', 'clean', 'health', 'care','health coverage','medicaid eligibility','insurance coverage','US citizens','legal residents',\n",
    "              'reform private insurance','MMA','medicare modernization act','quality of health care','merit based incentive payment system','redducing health care costs']]"
   ]
  },
  {
   "cell_type": "code",
   "execution_count": null,
   "metadata": {},
   "outputs": [],
   "source": [
    "def isPhraseIn(phrase, text):\n",
    "    return re.search(r\"\\b{}\\b\".format(phrase), text, re.IGNORECASE) is not None"
   ]
  },
  {
   "cell_type": "code",
   "execution_count": null,
   "metadata": {},
   "outputs": [],
   "source": [
    "def calculateAverageEngagementsPerDay(dataframe):\n",
    "    # dataframe = dataframe[(dataframe['created_at']>=fromDate) & (dataframe['created_at']<=toDate)]\n",
    "\n",
    "    dataframe['engagement_rate'] = dataframe['likes_count'].astype(int) + dataframe['replies_count'].astype(int) + dataframe['retweets_count'].astype(int)\n",
    "    \n",
    "    engagements_per_day = dataframe.groupby(['created_at']).agg({'engagement_rate':'sum'}).reset_index()\n",
    "    tweets_per_day = (dataframe.groupby(['created_at'])['tweet'].count()).to_frame('tweets_per_day')\n",
    "    \n",
    "    average_engagements_per_day = tweets_per_day.merge(engagements_per_day, how='inner', on='created_at')\n",
    "    average_engagements_per_day['average_engagement_per_day'] = np.round((average_engagements_per_day['engagement_rate']/ (3 * average_engagements_per_day['tweets_per_day'])), 2)\n",
    "    \n",
    "    return average_engagements_per_day"
   ]
  },
  {
   "cell_type": "code",
   "execution_count": null,
   "metadata": {},
   "outputs": [],
   "source": [
    "def topicWiseEngagement(user_df, topicList):\n",
    "    print(user_df.shape)\n",
    "\n",
    "    # Calculate engagement over each topic\n",
    "    for topic_keywords in topicList:\n",
    "        print(topic_keywords)\n",
    "\n",
    "        topic_df = pd.DataFrame(columns = user_df.columns)\n",
    "\n",
    "        for index, row in user_df.iterrows():\n",
    "            for phrase in topic_keywords:\n",
    "                if isinstance(row.tweet, float):\n",
    "                    row.tweet = str(row.tweet)\n",
    "                if isPhraseIn(phrase, row.tweet):\n",
    "                    topic_df.loc[index] = row\n",
    "        \n",
    "        topic_df.drop_duplicates()\n",
    "\n",
    "        username = user_df['username'].unique()[0]\n",
    "        user_impact = user_info_df[user_info_df['username'] == username]['user_impact_scaled'].unique()[0]\n",
    "        user_topic_engagement = calculateAverageEngagementsPerDay(topic_df)\n",
    "        user_topic_engagement['EMA']= user_topic_engagement.iloc[:,3].ewm(span=SPAN, adjust=False).mean()\n",
    "        user_topic_engagement['user'] = username  \n",
    "        user_topic_engagement['user_impact'] = user_impact\n",
    "        \n",
    "        # Calculate z-score & Remove outliers\n",
    "        user_topic_engagement['zscore'] = stats.zscore(user_topic_engagement['EMA'])\n",
    "        user_topic_engagement = user_topic_engagement[(user_topic_engagement.zscore >= -3) & (user_topic_engagement.zscore <= 3)]\n",
    "        \n",
    "        # Curve Smoothing            \n",
    "        if(WINDOW_LENGTH > topic_df.shape[0]):\n",
    "            if(topic_df.shape[0] % 2 == 0):\n",
    "                win_len = topic_df.shape[0]-1\n",
    "            else:\n",
    "                win_len = topic_df.shape[0]\n",
    "            \n",
    "            print(win_len)\n",
    "            poly_order = win_len-1\n",
    "            user_topic_engagement['EMA:Degree8'] = savgol_filter(user_topic_engagement['EMA'], win_len, poly_order)\n",
    "        else:            \n",
    "            user_topic_engagement['EMA:Degree8'] = savgol_filter(user_topic_engagement['EMA'], WINDOW_LENGTH, POLY_ORDER)\n",
    "            \n",
    "        user_topic_engagement['EMA:Degree8'] = savgol_filter(user_topic_engagement['EMA'], 1)\n",
    "        \n",
    "        # Add user-impact to EMA    \n",
    "        user_topic_engagement['EMA*user_impact'] = user_topic_engagement['EMA'].mul(user_topic_engagement['user_impact'])\n",
    "        \n",
    "        avg_user_topic_engagement = np.round(user_topic_engagement[['EMA*user_impact']].mean()[0], 3)\n",
    "        \n",
    "        print('Average engagement for topic:', avg_user_topic_engagement)\n",
    "        print('=============================================================================================================')\n",
    "       "
   ]
  },
  {
   "cell_type": "code",
   "execution_count": null,
   "metadata": {},
   "outputs": [],
   "source": [
    "topicWiseEngagement(user_df, topicList)"
   ]
  },
  {
   "cell_type": "code",
   "execution_count": null,
   "metadata": {},
   "outputs": [],
   "source": []
  }
 ],
 "metadata": {
  "interpreter": {
   "hash": "ac59ebe37160ed0dfa835113d9b8498d9f09ceb179beaac4002f036b9467c963"
  },
  "kernelspec": {
   "display_name": "Python 3.9.9 64-bit",
   "language": "python",
   "name": "python3"
  },
  "language_info": {
   "codemirror_mode": {
    "name": "ipython",
    "version": 3
   },
   "file_extension": ".py",
   "mimetype": "text/x-python",
   "name": "python",
   "nbconvert_exporter": "python",
   "pygments_lexer": "ipython3",
   "version": "3.9.9"
  },
  "orig_nbformat": 4
 },
 "nbformat": 4,
 "nbformat_minor": 2
}
