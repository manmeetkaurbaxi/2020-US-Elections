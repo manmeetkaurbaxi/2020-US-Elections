{
 "cells": [
  {
   "cell_type": "code",
   "execution_count": 1,
   "metadata": {},
   "outputs": [],
   "source": [
    "import pandas as pd\n",
    "import numpy as np\n",
    "import glob\n",
    "import ast\n",
    "import re"
   ]
  },
  {
   "cell_type": "code",
   "execution_count": 2,
   "metadata": {},
   "outputs": [],
   "source": [
    "path = '../../data/twitter/raw/users/'\n",
    "topic_df = pd.read_csv('../../data/topic-list.csv')\n",
    "\n",
    "democrats_df = pd.concat([pd.read_csv(f) for f in glob.glob(path+'democrats/required/*.csv')])\n",
    "republicans_df = pd.concat([pd.read_csv(f) for f in glob.glob(path+'republicans/required/*.csv')])\n",
    "\n",
    "users_df = pd.concat([democrats_df, republicans_df])"
   ]
  },
  {
   "cell_type": "code",
   "execution_count": 3,
   "metadata": {},
   "outputs": [
    {
     "data": {
      "text/plain": [
       "Index(['topic-source', 'topic-category', 'topic', 'topic-keywords',\n",
       "       'abstract-category'],\n",
       "      dtype='object')"
      ]
     },
     "execution_count": 3,
     "metadata": {},
     "output_type": "execute_result"
    }
   ],
   "source": [
    "topic_df.columns"
   ]
  },
  {
   "cell_type": "code",
   "execution_count": 4,
   "metadata": {},
   "outputs": [
    {
     "data": {
      "text/plain": [
       "Index(['id', 'created_at', 'conversation_id', 'tweet', 'retweet_count',\n",
       "       'like_count', 'reply_count', 'quote_count', 'expanded_url', 'language',\n",
       "       'possibly_sensitive', 'in_reply_to_user_id', 'username', 'date',\n",
       "       'replies_count', 'retweets_count', 'likes_count', 'isRetweet',\n",
       "       'user_rt_id', 'user_rt', 'retweet_id', 'reply_to', 'retweet_date',\n",
       "       'isDeleted', 'isFlagged'],\n",
       "      dtype='object')"
      ]
     },
     "execution_count": 4,
     "metadata": {},
     "output_type": "execute_result"
    }
   ],
   "source": [
    "users_df.columns"
   ]
  },
  {
   "cell_type": "code",
   "execution_count": 5,
   "metadata": {},
   "outputs": [],
   "source": [
    "def isPhraseIn(phrase, text):\n",
    "    '''\n",
    "    Returns a boolean value testifying if the phrase exists in the tweet\n",
    "    '''\n",
    "    return re.search(r\"\\b{}\\b\".format(phrase), text, re.IGNORECASE) is not None"
   ]
  },
  {
   "cell_type": "code",
   "execution_count": 6,
   "metadata": {},
   "outputs": [
    {
     "name": "stdout",
     "output_type": "stream",
     "text": [
      "The Economy (14, 26)\n",
      "The Supreme Court Appointments (2, 26)\n",
      "COVID-19 (666, 26)\n",
      "Race & Violence in our cities (475, 26)\n",
      "The Integrity of Elections (17167, 26)\n",
      "The Trump & Biden Records (57, 26)\n",
      "Trump Healthcare Plan (17, 26)\n",
      "Fighting COVID-19 (756, 26)\n",
      "American Families & The Economy (873, 26)\n",
      "Race in America (78, 26)\n",
      "Climate Change (487, 26)\n",
      "National Security (210, 26)\n",
      "Leadership (89, 26)\n",
      "Black Lives Matter (123, 26)\n",
      "Capitol Hill Incident (488, 26)\n",
      "US Elections (16344, 26)\n",
      "Inauguration Ceremony (1949, 26)\n",
      "Legalization of Medical Marijuana (22, 26)\n",
      "Equality rights for LGBTQ (1646, 26)\n",
      "Weapon Ban (803, 26)\n",
      "Build Back Express Tour (20, 26)\n",
      "Affordable Health Care Act (4159, 26)\n"
     ]
    }
   ],
   "source": [
    "for idx, row in topic_df.iterrows():\n",
    "    topic = row['topic']\n",
    "    keywords = ast.literal_eval(row['topic-keywords'])\n",
    "    \n",
    "    topic_df = pd.DataFrame(columns = users_df.columns)\n",
    "    topic_user_tweet_count = 0\n",
    "    \n",
    "    for idx2, row2 in users_df.iterrows():\n",
    "        for phrase in keywords:\n",
    "            if(isinstance(row2.tweet, float)):\n",
    "                row2.tweet = str(row2.tweet)\n",
    "            if phrase in row2.tweet:\n",
    "                topic_df.loc[idx2] = row2\n",
    "                topic_df['topic'] = topic\n",
    "                topic_user_tweet_count += 1\n",
    "        topic_df.drop_duplicates(inplace=True)\n",
    "    \n",
    "    # topic_df.drop_duplicates(inplace=True)\n",
    "    topic_df.to_csv(topic + '.csv', index=False, encoding='utf-8')\n",
    "    print(topic, topic_df.shape)"
   ]
  },
  {
   "cell_type": "code",
   "execution_count": null,
   "metadata": {},
   "outputs": [],
   "source": []
  }
 ],
 "metadata": {
  "interpreter": {
   "hash": "ac59ebe37160ed0dfa835113d9b8498d9f09ceb179beaac4002f036b9467c963"
  },
  "kernelspec": {
   "display_name": "Python 3.9.9 64-bit",
   "language": "python",
   "name": "python3"
  },
  "language_info": {
   "codemirror_mode": {
    "name": "ipython",
    "version": 3
   },
   "file_extension": ".py",
   "mimetype": "text/x-python",
   "name": "python",
   "nbconvert_exporter": "python",
   "pygments_lexer": "ipython3",
   "version": "3.9.9"
  },
  "orig_nbformat": 4
 },
 "nbformat": 4,
 "nbformat_minor": 2
}
