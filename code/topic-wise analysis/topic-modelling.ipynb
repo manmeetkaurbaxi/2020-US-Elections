{
 "cells": [
  {
   "cell_type": "code",
   "execution_count": null,
   "metadata": {},
   "outputs": [],
   "source": [
    "import pandas as pd\n",
    "import numpy as np\n",
    "import glob\n",
    "import gensim\n",
    "from sklearn.cluster import KMeans\n",
    "from sklearn.feature_extraction.text import TfidfVectorizer\n",
    "from sklearn import metrics\n",
    "import tqdm\n",
    "import nltk\n",
    "import re\n",
    "from operator import itemgetter\n",
    "import time\n",
    "from pprint import pprint\n",
    "from bertopic import BERTopic\n",
    "\n",
    "EPOCHS = 205\n",
    "TOPICS = 5\n",
    "CHUNK_SIZE = 1000\n",
    "WORKERS = 7\n",
    "EVAL_PERIOD = 10\n",
    "ALPHA = 0.01\n",
    "BETA = 0.9"
   ]
  },
  {
   "cell_type": "code",
   "execution_count": null,
   "metadata": {},
   "outputs": [],
   "source": [
    "nltk.download('punkt')\n",
    "nltk.download('wordnet')\n",
    "nltk.download('stopwords')\n",
    "nltk.download('omw-1.4')"
   ]
  },
  {
   "cell_type": "code",
   "execution_count": null,
   "metadata": {},
   "outputs": [],
   "source": [
    "def preprocess_text(sentence):\n",
    "    # Lowercase\n",
    "    sentence = sentence.lower()\n",
    "    \n",
    "    # Remove all non-alphabets (punctuation, numbers, new-line characters and extra-spaces)\n",
    "    sentence = re.sub(r'[^a-zA-Z]+', ' ', sentence)\n",
    "    sentence = sentence.replace('\\n', '')\n",
    "    # sentence = re.sub('\\s\\s+', ' ', sentence)\n",
    "    \n",
    "    # Tokenize & remove stop-words\n",
    "    word_list = nltk.word_tokenize(sentence)    \n",
    "    stopwords_list = nltk.corpus.stopwords.words('english')\n",
    "    stopwords_list.extend(['trump','realdonaldtrump','thank','trump','presid','america','american','fjv'])\n",
    "    word_list = [word for word in word_list if word not in stopwords_list]\n",
    "    \n",
    "    # Remove very small words, length < 3, they don't contribute any useful information\n",
    "    word_list = [word for word in word_list if len(word) > 3]\n",
    "        \n",
    "    # Stem & Lemmatize\n",
    "    porter_stemmer = nltk.stem.PorterStemmer()\n",
    "    lemmatizer = nltk.stem.WordNetLemmatizer()\n",
    "    word_list = [porter_stemmer.stem(word) for word in word_list]\n",
    "    word_list = [lemmatizer.lemmatize(word) for word in word_list]\n",
    "    \n",
    "    sentence = ' '.join(word_list)\n",
    "    \n",
    "    return sentence"
   ]
  },
  {
   "cell_type": "markdown",
   "metadata": {},
   "source": [
    "## Load Data"
   ]
  },
  {
   "cell_type": "code",
   "execution_count": null,
   "metadata": {},
   "outputs": [],
   "source": [
    "path = '../../data/twitter/raw/users/'\n",
    "republicans_df = pd.concat([pd.read_csv(f) for f in glob.glob(path+'republicans/required/*.csv')])\n",
    "democrats_df = pd.concat([pd.read_csv(f) for f in glob.glob(path+'democrats/required/*.csv')])\n",
    "\n",
    "df = pd.concat([republicans_df, democrats_df], ignore_index=True)"
   ]
  },
  {
   "cell_type": "code",
   "execution_count": null,
   "metadata": {},
   "outputs": [],
   "source": [
    "tqdm.tqdm.pandas()\n",
    "df['tweet_tokenized'] = df['tweet'].progress_apply(lambda x:preprocess_text(str(x)))"
   ]
  },
  {
   "cell_type": "code",
   "execution_count": null,
   "metadata": {},
   "outputs": [],
   "source": [
    "performance_metrics = pd.DataFrame(columns=['feature-extraction','clustering-algo', 'run#', 'state', 'c_v','c_umass','topics','time'])"
   ]
  },
  {
   "cell_type": "markdown",
   "metadata": {},
   "source": [
    "## TF-IDF"
   ]
  },
  {
   "cell_type": "code",
   "execution_count": null,
   "metadata": {},
   "outputs": [],
   "source": [
    "documents = df['tweet_tokenized'].str.split()\n",
    "dictionary = gensim.corpora.Dictionary(documents)\n",
    "dictionary.filter_extremes(no_below=5, no_above=0.5, keep_n=20000)\n",
    "\n",
    "tfidf_model = gensim.models.TfidfModel(dictionary=dictionary)\n",
    "\n",
    "corpus = [dictionary.doc2bow(document) for document in documents]\n",
    "\n",
    "corpus_tfidf = list(tfidf_model[corpus])"
   ]
  },
  {
   "cell_type": "markdown",
   "metadata": {},
   "source": [
    "### LDA"
   ]
  },
  {
   "cell_type": "code",
   "execution_count": null,
   "metadata": {},
   "outputs": [],
   "source": [
    "for run, state in zip(range(2, 6, 1), range(4, 12, 2)):\n",
    "    print('Run #', run)\n",
    "    \n",
    "    start = time.time()\n",
    "    gensim_lda = gensim.models.ldamodel.LdaModel(corpus=corpus_tfidf, num_topics=TOPICS, id2word=dictionary, chunksize=CHUNK_SIZE, passes=EPOCHS, \n",
    "                                                     eval_every = EVAL_PERIOD, per_word_topics=True, random_state=state, alpha=ALPHA, eta=BETA)\n",
    "    \n",
    "    coherence_cv = gensim.models.CoherenceModel(model=gensim_lda, texts=documents, dictionary=dictionary, coherence='c_v').get_coherence()\n",
    "    coherence_cumass = gensim.models.CoherenceModel(model=gensim_lda, texts=documents, dictionary=dictionary, coherence='u_mass').get_coherence()\n",
    "    topics = gensim_lda.print_topics()\n",
    "    \n",
    "    stop = time.time()\n",
    "    \n",
    "    performance_metrics = performance_metrics.append({'feature-extraction':'tf-idf', 'clustering-algo':'LDA', 'run#':run, 'state':state,'c_v':coherence_cv,'c_umass':coherence_cumass,\n",
    "                                                      'topics':topics,'time':(stop-start)}, ignore_index=True)"
   ]
  },
  {
   "cell_type": "markdown",
   "metadata": {},
   "source": [
    "### Parallel LDA"
   ]
  },
  {
   "cell_type": "code",
   "execution_count": null,
   "metadata": {},
   "outputs": [],
   "source": [
    "for run, state in zip(range(1, 6, 1), range(2, 12, 2)):\n",
    "    print('Run #', run)\n",
    "    \n",
    "    start = time.time()\n",
    "    gensim_plda = gensim.models.ldamulticore.LdaMulticore(corpus=corpus_tfidf, num_topics=TOPICS, id2word=dictionary, chunksize=CHUNK_SIZE, workers=WORKERS, passes=EPOCHS, \n",
    "                                                     eval_every = EVAL_PERIOD, per_word_topics=True, random_state=state, alpha=ALPHA, eta=BETA)\n",
    "    \n",
    "    coherence_cv = gensim.models.CoherenceModel(model=gensim_plda, texts=documents, dictionary=dictionary, coherence='c_v').get_coherence()\n",
    "    coherence_cumass = gensim.models.CoherenceModel(model=gensim_plda, texts=documents, dictionary=dictionary, coherence='u_mass').get_coherence()\n",
    "    topics = gensim_plda.print_topics()\n",
    "    \n",
    "    stop = time.time()\n",
    "    \n",
    "    performance_metrics = performance_metrics.append({'feature-extraction':'tf-idf', 'clustering-algo':'Parallel LDA', 'run#':run, 'state':state,'c_v':coherence_cv,'c_umass':coherence_cumass,\n",
    "                                                      'topics':topics,'time':(stop-start)}, ignore_index=True)\n",
    "    "
   ]
  },
  {
   "cell_type": "markdown",
   "metadata": {},
   "source": [
    "### NMF"
   ]
  },
  {
   "cell_type": "code",
   "execution_count": null,
   "metadata": {},
   "outputs": [],
   "source": [
    "for run, state in zip(range(1, 6, 1), range(2, 12, 2)):\n",
    "    print('Run #', run)\n",
    "    \n",
    "    start = time.time()\n",
    "    gensim_nmf = gensim.models.Nmf(corpus=corpus_tfidf, num_topics=TOPICS, id2word=dictionary, chunksize=CHUNK_SIZE, passes=EPOCHS, eval_every=EVAL_PERIOD, minimum_probability=0, \n",
    "                                   random_state=state, kappa=1)\n",
    "    \n",
    "    coherence_cv = gensim.models.CoherenceModel(model=gensim_nmf, texts=documents, dictionary=dictionary, coherence='c_v').get_coherence()\n",
    "    coherence_cumass = gensim.models.CoherenceModel(model=gensim_nmf, texts=documents, dictionary=dictionary, coherence='u_mass').get_coherence()\n",
    "    topics = gensim_nmf.print_topics()\n",
    "    \n",
    "    stop = time.time()\n",
    "    \n",
    "    performance_metrics = performance_metrics.append({'feature-extraction':'tf-idf', 'clustering-algo':'NMF', 'run#':run, 'state':state,'c_v':coherence_cv,'c_umass':coherence_cumass,\n",
    "                                                      'topics':topics,'time':(stop-start)}, ignore_index=True)"
   ]
  },
  {
   "cell_type": "markdown",
   "metadata": {},
   "source": [
    "### LSI"
   ]
  },
  {
   "cell_type": "code",
   "execution_count": null,
   "metadata": {},
   "outputs": [],
   "source": [
    "for run, state in zip(range(1, 6, 1), range(2, 12, 2)):\n",
    "    print('Run #', run)\n",
    "    \n",
    "    start = time.time()\n",
    "    gensim_lsi = gensim.models.LsiModel(corpus=corpus_tfidf, num_topics=TOPICS, id2word=dictionary, chunksize=CHUNK_SIZE)\n",
    "    \n",
    "    coherence_cv = gensim.models.CoherenceModel(model=gensim_lsi, texts=documents, dictionary=dictionary, coherence='c_v').get_coherence()\n",
    "    coherence_cumass = gensim.models.CoherenceModel(model=gensim_lsi, texts=documents, dictionary=dictionary, coherence='u_mass').get_coherence()\n",
    "    topics = gensim_lsi.print_topics()\n",
    "    stop = time.time()\n",
    "      \n",
    "    performance_metrics = performance_metrics.append({'feature-extraction':'tf-idf', 'clustering-algo':'LSI', 'run#':run, 'state':state,'c_v':coherence_cv,'c_umass':coherence_cumass,\n",
    "                                                      'topics':topics,'time':(stop-start)}, ignore_index=True)"
   ]
  },
  {
   "cell_type": "markdown",
   "metadata": {},
   "source": [
    "### BERTopic"
   ]
  },
  {
   "cell_type": "code",
   "execution_count": null,
   "metadata": {},
   "outputs": [],
   "source": [
    "# for run, state in zip(range(1, 6, 1), range(2, 12, 2)):\n",
    "#     print('Run #', run)\n",
    "    \n",
    "#     start = time.time()\n",
    "#     tfidf_embeddings = TfidfVectorizer(min_df=5).fit_transform(df['tweet_tokenized'].astype(str))\n",
    "#     topic_model = BERTopic(verbose=True, nr_topics=5)\n",
    "#     topics, probs = topic_model.fit_transform(df['tweet_tokenized'].astype(str), tfidf_embeddings)    \n",
    "    \n",
    "#     coherence_cv = gensim.models.CoherenceModel(model=topic_model, texts=documents, dictionary=dictionary, coherence='c_v').get_coherence()\n",
    "#     coherence_cumass = gensim.models.CoherenceModel(model=topic_model, texts=documents, dictionary=dictionary, coherence='u_mass').get_coherence()\n",
    "#     topics = (topic_model.get_topic_info()[1:]['Name']).tolist()\n",
    "#     # print(topics)\n",
    "#     stop = time.time()\n",
    "    \n",
    "#     performance_metrics = performance_metrics.append({'feature-extraction':'tf-idf', 'clustering-algo':'BERTopic', 'run#':run, 'state':state,'c_v':coherence_cv,'c_umass':coherence_cumass,\n",
    "#                                                       'topics':topics,'time':(stop-start)}, ignore_index=True)"
   ]
  },
  {
   "cell_type": "markdown",
   "metadata": {},
   "source": [
    "### HDP"
   ]
  },
  {
   "cell_type": "code",
   "execution_count": null,
   "metadata": {},
   "outputs": [],
   "source": [
    "for run, state in zip(range(1, 6, 1), range(2, 12, 2)):\n",
    "    print('Run #', run)\n",
    "    \n",
    "    start = time.time()\n",
    "    gensim_hdp = gensim.models.hdpmodel.HdpModel(corpus=corpus_tfidf, id2word=dictionary, chunksize=CHUNK_SIZE, random_state=state, kappa=1, alpha=ALPHA)\n",
    "    \n",
    "    coherence_cv = gensim.models.CoherenceModel(model=gensim_hdp, texts=documents, dictionary=dictionary, coherence='c_v').get_coherence()\n",
    "    coherence_cumass = gensim.models.CoherenceModel(model=gensim_hdp, texts=documents, dictionary=dictionary, coherence='u_mass').get_coherence()\n",
    "    topics = gensim_hdp.print_topics()\n",
    "    stop = time.time()\n",
    "      \n",
    "    performance_metrics = performance_metrics.append({'feature-extraction':'tf-idf', 'clustering-algo':'HDP', 'run#':run, 'state':state,'c_v':coherence_cv,'c_umass':coherence_cumass,\n",
    "                                                      'topics':topics,'time':(stop-start)}, ignore_index=True)"
   ]
  },
  {
   "cell_type": "code",
   "execution_count": null,
   "metadata": {},
   "outputs": [],
   "source": [
    "performance_metrics"
   ]
  },
  {
   "cell_type": "code",
   "execution_count": null,
   "metadata": {},
   "outputs": [],
   "source": [
    "mean_perf = performance_metrics.groupby('clustering-algo')[['c_v','c_umass','time']].mean()"
   ]
  },
  {
   "cell_type": "code",
   "execution_count": null,
   "metadata": {},
   "outputs": [],
   "source": [
    "mean_perf.to_csv('../../results/topic-modelling/mean-perf-topic-modelling.csv')"
   ]
  },
  {
   "cell_type": "code",
   "execution_count": null,
   "metadata": {},
   "outputs": [],
   "source": []
  }
 ],
 "metadata": {
  "interpreter": {
   "hash": "ac59ebe37160ed0dfa835113d9b8498d9f09ceb179beaac4002f036b9467c963"
  },
  "kernelspec": {
   "display_name": "Python 3.9.9 64-bit",
   "language": "python",
   "name": "python3"
  },
  "language_info": {
   "codemirror_mode": {
    "name": "ipython",
    "version": 3
   },
   "file_extension": ".py",
   "mimetype": "text/x-python",
   "name": "python",
   "nbconvert_exporter": "python",
   "pygments_lexer": "ipython3",
   "version": "3.9.9"
  },
  "orig_nbformat": 4
 },
 "nbformat": 4,
 "nbformat_minor": 2
}
